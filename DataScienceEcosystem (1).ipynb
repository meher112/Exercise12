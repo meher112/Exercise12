{
 "cells": [
  {
   "cell_type": "markdown",
   "id": "26c3a3e9-b5f4-4d40-8fc8-697b23411646",
   "metadata": {},
   "source": [
    "# Data Science Tools and Ecosystem"
   ]
  },
  {
   "cell_type": "markdown",
   "id": "e51aadaf-8f21-41f3-b869-f1949a804254",
   "metadata": {},
   "source": [
    "### In this notebook, Data Science Tools and Ecosystem are summarized."
   ]
  },
  {
   "cell_type": "markdown",
   "id": "d1022033-a9af-4d70-a1c9-9eb841a891d8",
   "metadata": {},
   "source": [
    "__Objectives__\n",
    "- Popular Languages Data Scientists Use\n",
    "- Common Libraries Data Scientist Use\n",
    "- Data Science Tools\n",
    "- Data Set Powering Data Science\n",
    "- Machine Learning Models"
   ]
  },
  {
   "cell_type": "markdown",
   "id": "caaf0ff5-5707-42ad-ba44-28ffb173e136",
   "metadata": {},
   "source": [
    "##### Some of the popular languages that Data Scientists use are:\n",
    "1. Python\n",
    "2. SQL\n",
    "3. Java"
   ]
  },
  {
   "cell_type": "markdown",
   "id": "67cd347a-8557-4b21-b5a6-9d56049c2ae5",
   "metadata": {},
   "source": [
    "##### Some of the commonly used libraries used by Data Scientists include:\n",
    "1. Pandas\n",
    "2. Keras\n",
    "3. Mathplotlib"
   ]
  },
  {
   "cell_type": "markdown",
   "id": "b0111307-f4f2-4a8a-a2eb-f82f958818bc",
   "metadata": {},
   "source": [
    "|Data Science Tools|\n",
    "|------------------|\n",
    "|Tensor Flow|\n",
    "|Apache Spark|\n",
    "|Juypter Notebook|\n"
   ]
  },
  {
   "cell_type": "markdown",
   "id": "e725582a-d8bf-45e3-91b7-ff6f7b95dd48",
   "metadata": {},
   "source": [
    "### Below are a few examples of evaluating arithmetic expressions in Python"
   ]
  },
  {
   "cell_type": "code",
   "execution_count": 2,
   "id": "c0b21a43-6565-4551-9b6a-648d14f38ada",
   "metadata": {},
   "outputs": [
    {
     "data": {
      "text/plain": [
       "17"
      ]
     },
     "execution_count": 2,
     "metadata": {},
     "output_type": "execute_result"
    }
   ],
   "source": [
    "(3*4)+5\n",
    "# this a simple arithmetic expression to multiply then add integers"
   ]
  },
  {
   "cell_type": "code",
   "execution_count": 3,
   "id": "d3394167-b344-491f-b8dc-e09827dc5687",
   "metadata": {},
   "outputs": [
    {
     "data": {
      "text/plain": [
       "3.3333333333333335"
      ]
     },
     "execution_count": 3,
     "metadata": {},
     "output_type": "execute_result"
    }
   ],
   "source": [
    "200/60\n",
    "# This will convert 200 minutes to hours by diving by 60"
   ]
  },
  {
   "cell_type": "markdown",
   "id": "90e1eb09-47e6-4659-a648-a3efec0672c2",
   "metadata": {},
   "source": [
    "## Author\n",
    "Meher"
   ]
  },
  {
   "cell_type": "code",
   "execution_count": null,
   "id": "81112f7f-c135-49be-a697-7e8bca4e04ad",
   "metadata": {},
   "outputs": [],
   "source": []
  }
 ],
 "metadata": {
  "kernelspec": {
   "display_name": "Python 3 (ipykernel)",
   "language": "python",
   "name": "python3"
  },
  "language_info": {
   "codemirror_mode": {
    "name": "ipython",
    "version": 3
   },
   "file_extension": ".py",
   "mimetype": "text/x-python",
   "name": "python",
   "nbconvert_exporter": "python",
   "pygments_lexer": "ipython3",
   "version": "3.11.9"
  }
 },
 "nbformat": 4,
 "nbformat_minor": 5
}
